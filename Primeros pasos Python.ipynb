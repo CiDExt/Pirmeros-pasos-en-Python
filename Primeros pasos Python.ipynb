{
 "cells": [
  {
   "cell_type": "markdown",
   "metadata": {
    "id": "n4CnT2EUErdf"
   },
   "source": [
    "# Primeros pasos en Python\n",
    "\n",
    "Las nuevas herramientas tecnológicas y digitales le han dado un vuelco total a nuestra sociedad. Las facilidades en la comunicación y la superconectividad entre todo el mundo hace que nuestros intereses, gustos y experiencias sean registradas, descritas, fotografiadas y por eso mismo monitoreadas. Así, la toma de decisiones de cualquier organización se fundamenta en sus datos registrados y en la capacidad de procesarlos, por lo tanto, el ejercicio del gerente actual es acertar en sus decisiones de acuerdo con el constante y abrumador cambio en el mundo de hoy.\n",
    "\n",
    "¿Cómo lograr una decisión acertada en un mundo cambiante? No tenemos la respuesta, pero sí sabemos que las herramientas cuantitativas son poderosas para este cometido, de hecho, las grandes iniciativas se soportan sobre algunas construcciones matemáticas, bien sean algoritmos, modelos, métodos, entre otros. La idea de los primeros cursos es introducirlos en el uso práctico de estas herramientas con ayuda de la tecnología. \n",
    "\n",
    "Durante nuestros cursos, nos separamos un poco de la noción tradicional de clase de matemáticas para apreciar la gran magnitud del encanto en esta ciencia y reconocerla como la principal aliada en la toma de nuestras decisiones.\n",
    "\n",
    "## ¿Cómo hago si no puedo instalarlo en mi pc?\n",
    "Existe una opción para ejecutar los cuadernos que crearemos desde cualquier computador, deben cumplirse dos condiciones:\n",
    "1. Tener una cuenta de gmail.\n",
    "2. Tener conexión a internet.\n",
    "\n",
    "Los pasos para hacerlo son muy sencillos:\n",
    "1. Accede desde el navegador de tu preferencia al link de [Google Colaboratory](https://research.google.com/colaboratory/) alias Google Colab.\n",
    "2. Accede a tu cuenta de gmail, en el botón que dice iniciar sesión y listo, ya podrán ser agregados los cuadernos que se trabajen al drive y tener acceso a ellos desde cualquier lugar del mundo."
   ]
  },
  {
   "cell_type": "markdown",
   "metadata": {
    "id": "0Ai0zEnIFBlg"
   },
   "source": [
    "## Uso de Jupyter\n",
    "Nuestra sociedad ha cambiado abruptamente por la incursión de las nuevas herramientas tecnológicas que están a nuestro alcance. Hoy por hoy, prácticamente cualquier actividad está siendo monitoreada de alguna manera, lo que genera un gran volumen de datos, y es precisamente sobre ellos sobre los cuales las compañías, empresas u organizaciones basan muchas de sus decisiones.\n",
    "\n",
    "Por lo anterior, los datos deben ser recolectados, tratados y analizados por expertos, los cuales emplearán herramientas cuantitativas (modelos, métodos, etc.) para dar la respuesta más acertada al problema que se enfrente.\n",
    "\n",
    "Para realizar estas labores, debemos tener conocimientos en lenguajes de programación, el que hemos decidido presentar, en primera instancia, es **Python**. Este lenguaje es muy utilizado en la ciencia de datos por sus bondades a la hora de manipular bases de datos, sin dejar atrás la \"facilidad\" de su código para ser interpretado.\n",
    "\n",
    "Para poder hacer uso del lenguaje de programación Python instalaremos un navegador llamado [Anaconda](https://www.anaconda.com), el cual permite iniciar  aplicaciones y gestionar paquetes, entornos y canales sin necesidad de hacer uso de líneas de código en la consola de comando.\n",
    "\n",
    "Para lograrlo, seguiremos los siguientes pasos:\n",
    "1. Nos dirigiremos a la página antes mencionada de **Anaconda**.\n",
    "2. Una vez allí, en el primer menú desplegable, `Products`, debemos elegir la opción `Individual Edition`.\n",
    "<img src=\"https://github.com/CiDExt/Primeros-pasos-en-Python/blob/main/images/ppp1.jpg?raw=true\" width=\"600\" >\n",
    "3. En el sitio al que se nos direcciona, en la parte derecha aparece el instalador sugerido (señalado en rojo), pero si deseamos descargar otro instalador podemos elegir tal opción en el link señalado en azul\n",
    "<img src=\"https://github.com/CiDExt/Primeros-pasos-en-Python/blob/main/images/ppp3.png?raw=true\" width=\"600\" >\n",
    "En los otros instaladores tenemos las siguientes opciones:\n",
    "<img src=\"https://github.com/CiDExt/Primeros-pasos-en-Python/blob/main/images/ppp2.jpg?raw=true\" width=\"600\" >\n",
    "4. Luego de descargar e instalar tendremos la opción de abrir nuestro navegador **Anaconda**.\n",
    "Si tiene alguna inquietud en la instalación puede visitar la [documentación de Anaconda](https://docs.anaconda.com/anaconda/install/).\n",
    "\n",
    "5. La vista que tendrán cuando abran el navegador deberá ser similar a la siguiente:\n",
    "<img src=\"https://github.com/CiDExt/Primeros-pasos-en-Python/blob/main/images/ppp4.png?raw=true\" width=\"600\" >\n",
    "\n",
    "puede variar dependiendo de la versión y programas que tengamos instalados en nuestro computador. \n",
    "Lanzaremos la aplicación `Jupyter`, la cual abrirá nuestro navegador predeterminado con una vista parecida a la siguiente:\n",
    "<img src=\"https://github.com/CiDExt/Primeros-pasos-en-Python/blob/main/images/ppp5.png?raw=true\" width=\"600\" >\n",
    "\n",
    "\n",
    "## ¿Qué podemos hacer aquí?\n",
    "Lo primero que haremos es abrir un cuaderno de `Jupyter`, para ello haremos click en `New` y luego en la primera opción la cual dice `Python3`:\n",
    "<img src=\"https://github.com/CiDExt/Primeros-pasos-en-Python/blob/main/images/ppp6.png?raw=true\" width=\"600\" >\n",
    "En este entorno es que se desarrollarán las clases de los cursos que enfrentaremos en el primer semestre, así que, haremos una exploración rápida de algunas de las cosas que podemos hacer en él:\n",
    "\n",
    "### Celdas para ejecutar código:\n",
    "Son las celdas en las que podremos ejecutar códigos, pequeños o grandes, y los identificamos por los elementos señalados en rojo:\n",
    "<img src=\"https://github.com/CiDExt/Primeros-pasos-en-Python/blob/main/images/ppp7.png?raw=true\" width=\"600\" >"
   ]
  },
  {
   "cell_type": "code",
   "execution_count": 1,
   "metadata": {
    "id": "CqId6Yg5E5VV"
   },
   "outputs": [
    {
     "data": {
      "text/plain": [
       "2"
      ]
     },
     "execution_count": 1,
     "metadata": {},
     "output_type": "execute_result"
    }
   ],
   "source": [
    "1+1"
   ]
  },
  {
   "cell_type": "code",
   "execution_count": 5,
   "metadata": {},
   "outputs": [
    {
     "name": "stdout",
     "output_type": "stream",
     "text": [
      "¡Bienvenidos a su casa de estudios!\n"
     ]
    }
   ],
   "source": [
    "print('¡Bienvenidos a su casa de estudios!')\n",
    "#Así agregamos comentarios"
   ]
  },
  {
   "cell_type": "code",
   "execution_count": 4,
   "metadata": {},
   "outputs": [],
   "source": [
    "pip install matplotlib"
   ]
  },
  {
   "cell_type": "markdown",
   "metadata": {},
   "source": [
    "### Celdas para Markdown:\n",
    "\n",
    "El lenguaje Markdown, escrito por [John Gruber](https://daringfireball.net/projects/markdown/) permite convertir texto plano en HTML. \n",
    "\n",
    "En estas celdas podemos escribir texto, como el que hemos presentado en el cuaderno, también introducir imágenes entre otras cosas. Haremos un recorrido rápido de las opciones que tenemos en estas celdas:\n",
    "\n",
    "#### Salidas de texto\n",
    "En la siguiente tabla resumimos algunas convenciones importantes para la escritura de documentos en Markdown:\n",
    "\n",
    "|**Escrituta en Celda**|**Salida**|\n",
    "|-|-|\n",
    "|Escritura normal|Escritura normal|\n",
    "|`*cursiva*`|*énfasis*|\n",
    "|`**negrita**`|**texto fuerte**|\n",
    "|`código`|`código`|\n",
    "\n",
    "#### Listas:\n",
    "\n",
    "**Numeradas:**\n",
    "```\n",
    "1. Primer numeral.  \n",
    "    a. Literal\n",
    "2. Segundo numeral.\n",
    "3. Etc.\n",
    "```\n",
    "1. Primer numeral.  \n",
    "    a. Literal\n",
    "2. Segundo numeral.\n",
    "3. Etc.\n",
    "\n",
    "**No numeradas:**\n",
    "```\n",
    "* Pimer elemento\n",
    "* Segundo elemento  \n",
    "    - Elemento de segundo nivel\n",
    "```\n",
    "* Pimer elemento\n",
    "* Segundo elemento  \n",
    "    - Elemento de segundo nivel\n",
    "    \n",
    "#### Links e imágenes\n",
    "Finalmente, usando este lenguaje también podemos conectar links y visualizar imágenes:\n",
    "\n",
    "**Links:**\n",
    "\n",
    "[Universidad Externado] (https://www.uexternado.edu.co/)\n",
    "\n",
    "[Universidad Externado](https://www.uexternado.edu.co/)\n",
    "\n",
    "**Imágenes:**  \n",
    "*Con HTML:*\n",
    "<img src=\"https://jupyter.org/assets/homepage/main-logo.svg\" width=\"100\" >\n",
    "*Con Markdown:*\n",
    "![logo](https://jupyter.org/assets/homepage/main-logo.svg)\n",
    "```\n",
    "![texto_alternativo](ubicacion_de_la_imagen)\n",
    "```\n",
    "La ubicación puede ser una *url* o una ubicación en el computador en el cual se ejecuta el archivo.\n",
    "\n",
    "#### Fórmulas matemáticas:\n",
    "\n",
    "Podemos emplear el código `LaTex` para tal fin, por ejemplo:\n",
    "`$\\frac{1}{2}$` da como resultado:\n",
    "$\\frac{1}{2}$.\n",
    "\n",
    "$a^2+b^2=c^2$\n",
    "\n",
    "\\[ x^n + y^n = z^n \\]\n",
    "$$ x^n + y^n = z^n $$\n",
    "\n",
    "Para mayor información visite el sitio de [Overleaf](https://es.overleaf.com/learn/latex/Mathematical_expressions).\n",
    "\n"
   ]
  },
  {
   "cell_type": "code",
   "execution_count": null,
   "metadata": {},
   "outputs": [],
   "source": []
  }
 ],
 "metadata": {
  "colab": {
   "name": "Copia de Untitled4.ipynb",
   "provenance": []
  },
  "kernelspec": {
   "display_name": "Python 3",
   "language": "python",
   "name": "python3"
  },
  "language_info": {
   "codemirror_mode": {
    "name": "ipython",
    "version": 3
   },
   "file_extension": ".py",
   "mimetype": "text/x-python",
   "name": "python",
   "nbconvert_exporter": "python",
   "pygments_lexer": "ipython3",
   "version": "3.8.8"
  },
  "latex_envs": {
   "LaTeX_envs_menu_present": true,
   "autoclose": false,
   "autocomplete": true,
   "bibliofile": "biblio.bib",
   "cite_by": "apalike",
   "current_citInitial": 1,
   "eqLabelWithNumbers": true,
   "eqNumInitial": 1,
   "hotkeys": {
    "equation": "Ctrl-E",
    "itemize": "Ctrl-I"
   },
   "labels_anchors": false,
   "latex_user_defs": false,
   "report_style_numbering": false,
   "user_envs_cfg": false
  },
  "toc": {
   "base_numbering": 1,
   "nav_menu": {},
   "number_sections": true,
   "sideBar": true,
   "skip_h1_title": true,
   "title_cell": "Table of Contents",
   "title_sidebar": "Contents",
   "toc_cell": false,
   "toc_position": {},
   "toc_section_display": true,
   "toc_window_display": false
  }
 },
 "nbformat": 4,
 "nbformat_minor": 1
}
